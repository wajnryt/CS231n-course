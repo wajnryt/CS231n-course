{
  "nbformat": 4,
  "nbformat_minor": 0,
  "metadata": {
    "colab": {
      "name": "maincode.ipynb",
      "version": "0.3.2",
      "provenance": [],
      "include_colab_link": true
    },
    "kernelspec": {
      "name": "python3",
      "display_name": "Python 3"
    }
  },
  "cells": [
    {
      "cell_type": "markdown",
      "metadata": {
        "id": "view-in-github",
        "colab_type": "text"
      },
      "source": [
        "<a href=\"https://colab.research.google.com/github/wajnryt/CS231n-course/blob/master/maincode.ipynb\" target=\"_parent\"><img src=\"https://colab.research.google.com/assets/colab-badge.svg\" alt=\"Open In Colab\"/></a>"
      ]
    },
    {
      "metadata": {
        "id": "7sodiwTWpEpS",
        "colab_type": "code",
        "colab": {}
      },
      "cell_type": "code",
      "source": [
        "import keras\n",
        "from keras.datasets.fashion_mnist import load_data\n",
        "# Load the fashion-mnist train data and test data\n",
        "(x_train, y_train), (x_test, y_test) = load_data()\n"
      ],
      "execution_count": 0,
      "outputs": []
    },
    {
      "metadata": {
        "id": "4MoLL5hkps4R",
        "colab_type": "code",
        "colab": {}
      },
      "cell_type": "code",
      "source": [
        "norm_x_train = x_train.astype('float32') / 255\n",
        "norm_x_test = x_test.astype('float32') / 255"
      ],
      "execution_count": 0,
      "outputs": []
    },
    {
      "metadata": {
        "id": "GriCb8dvqH0o",
        "colab_type": "code",
        "colab": {}
      },
      "cell_type": "code",
      "source": [
        "from keras.utils import to_categorical\n",
        "encoded_y_train = to_categorical(y_train, num_classes=10, dtype='float32')\n",
        "encoded_y_test = to_categorical(y_test, num_classes=10, dtype='float32')"
      ],
      "execution_count": 0,
      "outputs": []
    },
    {
      "metadata": {
        "id": "xG5XRe5bqvUA",
        "colab_type": "code",
        "colab": {}
      },
      "cell_type": "code",
      "source": [
        "from sklearn.utils import shuffle\n",
        "def load_data_generator(x, y, batch_size=64):\n",
        "    num_samples = x.shape[0]\n",
        "    while 1:  # Loop forever so the generator never terminates\n",
        "        try:\n",
        "            shuffle(x)\n",
        "            for i in range(0, num_samples, batch_size):\n",
        "                x_data = [preprocess_image(im) for im in x[i:i+batch_size]]\n",
        "                y_data = y[i:i + batch_size]\n",
        "            \n",
        "                # convert to numpy array since this what keras required\n",
        "                yield shuffle(np.array(x_data), np.array(y_data))\n",
        "        except Exception as err:\n",
        "            print(err)"
      ],
      "execution_count": 0,
      "outputs": []
    },
    {
      "metadata": {
        "id": "Fhq5QbeYq1nY",
        "colab_type": "code",
        "colab": {}
      },
      "cell_type": "code",
      "source": [
        "from keras.applications.mobilenetv2 import MobileNetV2\n",
        "from keras.layers import Dense, Input, Dropout\n",
        "from keras.models import Model\n",
        "\n",
        "def build_model( ):\n",
        "    input_tensor = Input(shape=(target_size, target_size, 3))\n",
        "    base_model = MobileNetV2(\n",
        "        include_top=False,\n",
        "        weights='imagenet',\n",
        "        input_tensor=input_tensor,\n",
        "        input_shape=(target_size, target_size, 3),\n",
        "        pooling='avg')\n",
        "\n",
        "    for layer in base_model.layers:\n",
        "        layer.trainable = True  # trainable has to be false in order to freeze the layers\n",
        "        \n",
        "    op = Dense(256, activation='relu')(base_model.output)\n",
        "    op = Dropout(.25)(op)\n",
        "    \n",
        "    ##\n",
        "    # softmax: calculates a probability for every possible class.\n",
        "    #\n",
        "    # activation='softmax': return the highest probability;\n",
        "    # for example, if 'Coat' is the highest probability then the result would be \n",
        "    # something like [0,0,0,0,1,0,0,0,0,0] with 1 in index 5 indicate 'Coat' in our case.\n",
        "    ##\n",
        "    output_tensor = Dense(10, activation='softmax')(op)\n",
        "\n",
        "    model = Model(inputs=input_tensor, outputs=output_tensor)\n",
        "\n",
        "\n",
        "    return model"
      ],
      "execution_count": 0,
      "outputs": []
    },
    {
      "metadata": {
        "id": "vdtFhe2Lq8vg",
        "colab_type": "code",
        "colab": {
          "base_uri": "https://localhost:8080/",
          "height": 357
        },
        "outputId": "911f3edb-14a0-4c14-dda4-7e6c0837ede9"
      },
      "cell_type": "code",
      "source": [
        "from keras.optimizers import Adam\n",
        "model = build_model()\n",
        "model.compile(optimizer=Adam(),\n",
        "              loss='categorical_crossentropy',\n",
        "              metrics=['categorical_accuracy'])\n",
        "\n",
        "train_generator = load_data_generator(norm_x_train, encoded_y_train, batch_size=64)\n",
        "model.fit_generator(\n",
        "    generator=train_generator,\n",
        "    steps_per_epoch=900,\n",
        "    verbose=1,\n",
        "    epochs=5)"
      ],
      "execution_count": 31,
      "outputs": [
        {
          "output_type": "error",
          "ename": "NameError",
          "evalue": "ignored",
          "traceback": [
            "\u001b[0;31m---------------------------------------------------------------------------\u001b[0m",
            "\u001b[0;31mNameError\u001b[0m                                 Traceback (most recent call last)",
            "\u001b[0;32m<ipython-input-31-1500e0d4b5e1>\u001b[0m in \u001b[0;36m<module>\u001b[0;34m()\u001b[0m\n\u001b[1;32m      1\u001b[0m \u001b[0;32mfrom\u001b[0m \u001b[0mkeras\u001b[0m\u001b[0;34m.\u001b[0m\u001b[0moptimizers\u001b[0m \u001b[0;32mimport\u001b[0m \u001b[0mAdam\u001b[0m\u001b[0;34m\u001b[0m\u001b[0;34m\u001b[0m\u001b[0m\n\u001b[0;32m----> 2\u001b[0;31m \u001b[0mmodel\u001b[0m \u001b[0;34m=\u001b[0m \u001b[0mbuild_model\u001b[0m\u001b[0;34m(\u001b[0m\u001b[0;34m)\u001b[0m\u001b[0;34m\u001b[0m\u001b[0;34m\u001b[0m\u001b[0m\n\u001b[0m\u001b[1;32m      3\u001b[0m model.compile(optimizer=Adam(),\n\u001b[1;32m      4\u001b[0m               \u001b[0mloss\u001b[0m\u001b[0;34m=\u001b[0m\u001b[0;34m'categorical_crossentropy'\u001b[0m\u001b[0;34m,\u001b[0m\u001b[0;34m\u001b[0m\u001b[0;34m\u001b[0m\u001b[0m\n\u001b[1;32m      5\u001b[0m               metrics=['categorical_accuracy'])\n",
            "\u001b[0;32m<ipython-input-30-04d2d410cb52>\u001b[0m in \u001b[0;36mbuild_model\u001b[0;34m()\u001b[0m\n\u001b[1;32m      4\u001b[0m \u001b[0;34m\u001b[0m\u001b[0m\n\u001b[1;32m      5\u001b[0m \u001b[0;32mdef\u001b[0m \u001b[0mbuild_model\u001b[0m\u001b[0;34m(\u001b[0m \u001b[0;34m)\u001b[0m\u001b[0;34m:\u001b[0m\u001b[0;34m\u001b[0m\u001b[0;34m\u001b[0m\u001b[0m\n\u001b[0;32m----> 6\u001b[0;31m     \u001b[0minput_tensor\u001b[0m \u001b[0;34m=\u001b[0m \u001b[0mInput\u001b[0m\u001b[0;34m(\u001b[0m\u001b[0mshape\u001b[0m\u001b[0;34m=\u001b[0m\u001b[0;34m(\u001b[0m\u001b[0mtarget_size\u001b[0m\u001b[0;34m,\u001b[0m \u001b[0mtarget_size\u001b[0m\u001b[0;34m,\u001b[0m \u001b[0;36m3\u001b[0m\u001b[0;34m)\u001b[0m\u001b[0;34m)\u001b[0m\u001b[0;34m\u001b[0m\u001b[0;34m\u001b[0m\u001b[0m\n\u001b[0m\u001b[1;32m      7\u001b[0m     base_model = MobileNetV2(\n\u001b[1;32m      8\u001b[0m         \u001b[0minclude_top\u001b[0m\u001b[0;34m=\u001b[0m\u001b[0;32mFalse\u001b[0m\u001b[0;34m,\u001b[0m\u001b[0;34m\u001b[0m\u001b[0;34m\u001b[0m\u001b[0m\n",
            "\u001b[0;31mNameError\u001b[0m: name 'target_size' is not defined"
          ]
        }
      ]
    }
  ]
}